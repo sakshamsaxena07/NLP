{
 "cells": [
  {
   "cell_type": "code",
   "execution_count": null,
   "id": "d9437c8b-db9a-4bbe-94f8-eaa1e43037df",
   "metadata": {},
   "outputs": [],
   "source": [
    "1 print an  f string that display NLP For Natural Processing Language using the variable provided"
   ]
  },
  {
   "cell_type": "code",
   "execution_count": 1,
   "id": "bff05955-5a4c-4573-94cb-6bc65b8d7604",
   "metadata": {},
   "outputs": [
    {
     "name": "stdout",
     "output_type": "stream",
     "text": [
      "NLP For Natural Processing Language\n"
     ]
    }
   ],
   "source": [
    "a = \"NLP For Natural Processing Language\"\n",
    "print(f\"{a}\")"
   ]
  },
  {
   "cell_type": "code",
   "execution_count": null,
   "id": "dd83f21e-a87f-49c2-b056-87b4fbb0463f",
   "metadata": {},
   "outputs": [],
   "source": [
    "2 Create a file in the current working dictionary called contact.txt by running the cell below "
   ]
  },
  {
   "cell_type": "code",
   "execution_count": 5,
   "id": "ce0fc991-2a3e-4134-9f40-ce6d2178d2c8",
   "metadata": {},
   "outputs": [
    {
     "name": "stdout",
     "output_type": "stream",
     "text": [
      "Writing contact.text\n"
     ]
    }
   ],
   "source": [
    "%%writefile contact.text\n",
    "create a file working directly runing by the cell"
   ]
  },
  {
   "cell_type": "code",
   "execution_count": null,
   "id": "6db7acf8-dd6b-426e-853b-a018b2ac5ff5",
   "metadata": {},
   "outputs": [],
   "source": [
    "3 open the file and use read() to save the content of file to a make sure the file is closed at the end "
   ]
  },
  {
   "cell_type": "code",
   "execution_count": 9,
   "id": "d4152c15-c849-4e9b-8d0d-3596073ad802",
   "metadata": {},
   "outputs": [
    {
     "name": "stdout",
     "output_type": "stream",
     "text": [
      "create a file working directly runing by the cell\n",
      "\n"
     ]
    }
   ],
   "source": [
    "f = open(\"contact.text\")\n",
    "print(f.read())"
   ]
  },
  {
   "cell_type": "code",
   "execution_count": 15,
   "id": "7bde2a8a-77ea-4a3d-8f08-6edfbbd9f88f",
   "metadata": {},
   "outputs": [],
   "source": [
    "f.close()"
   ]
  },
  {
   "cell_type": "code",
   "execution_count": null,
   "id": "addde84f-c285-438b-9979-6e806721c7c0",
   "metadata": {},
   "outputs": [],
   "source": [
    "4 use pypdf2 to open the file buisness_proposal.pdf Extract the text of page 2"
   ]
  },
  {
   "cell_type": "code",
   "execution_count": 17,
   "id": "9dac8c13-77b0-4c7d-9b44-bf559cbb439d",
   "metadata": {},
   "outputs": [],
   "source": [
    "import PyPDF2"
   ]
  },
  {
   "cell_type": "code",
   "execution_count": 1,
   "id": "65075b68-53cf-49d2-bba3-6ca4588343a7",
   "metadata": {},
   "outputs": [
    {
     "data": {
      "text/plain": [
       "<_io.BufferedReader name='Business_Proposal.pdf'>"
      ]
     },
     "execution_count": 1,
     "metadata": {},
     "output_type": "execute_result"
    }
   ],
   "source": [
    "a = open(\"Business_Proposal.pdf\",\"rb\")\n",
    "a"
   ]
  },
  {
   "cell_type": "code",
   "execution_count": 31,
   "id": "73ca1011-99d0-402b-bd19-3ea154368a45",
   "metadata": {},
   "outputs": [],
   "source": [
    "pdf_reader =  PyPDF2.PdfReader(a)"
   ]
  },
  {
   "cell_type": "code",
   "execution_count": 43,
   "id": "1db70708-f6c1-443d-87a0-348182685098",
   "metadata": {
    "scrolled": true
   },
   "outputs": [
    {
     "name": "stdout",
     "output_type": "stream",
     "text": [
      "2\n"
     ]
    }
   ],
   "source": [
    "print(len(pdf_reader.pages))"
   ]
  },
  {
   "cell_type": "code",
   "execution_count": 57,
   "id": "e9ee1358-e867-4044-8cf4-4daa9efcc3d3",
   "metadata": {},
   "outputs": [],
   "source": [
    "page_one = pdf_reader.pages[1]\n"
   ]
  },
  {
   "cell_type": "code",
   "execution_count": 59,
   "id": "a88a81c2-123f-42b2-98c3-8b1721939759",
   "metadata": {},
   "outputs": [
    {
     "data": {
      "text/plain": [
       "'AUTHORS:  \\nAmy Baker, Finance Chair, x345, abaker@ourcompany.com  \\nChris Donaldson, Accounting Dir., x621, cdonaldson@ourcompany.com  \\nErin Freeman, Sr. VP, x879, efreeman@ourcompany.com  '"
      ]
     },
     "execution_count": 59,
     "metadata": {},
     "output_type": "execute_result"
    }
   ],
   "source": [
    "page_extract = page_one.extract_text()\n",
    "page_extract"
   ]
  },
  {
   "cell_type": "code",
   "execution_count": null,
   "id": "f0736238-ec21-4249-b377-fcb2d9022ce8",
   "metadata": {},
   "outputs": [],
   "source": [
    "5 open the file contact txt in append mode add text of page 2 from above to contact.txt"
   ]
  },
  {
   "cell_type": "code",
   "execution_count": 97,
   "id": "bbbac3ac-fc0c-4a82-8b0d-02c53b806a54",
   "metadata": {},
   "outputs": [
    {
     "data": {
      "text/plain": [
       "41"
      ]
     },
     "execution_count": 97,
     "metadata": {},
     "output_type": "execute_result"
    }
   ],
   "source": [
    "b = open(\"contact.text\", \"+a\")\n",
    "b.write(\"file contact txt in append mode add  text\")"
   ]
  },
  {
   "cell_type": "code",
   "execution_count": 99,
   "id": "d821f934-55b9-47db-b57c-69b46bfbe1c7",
   "metadata": {},
   "outputs": [
    {
     "data": {
      "text/plain": [
       "0"
      ]
     },
     "execution_count": 99,
     "metadata": {},
     "output_type": "execute_result"
    }
   ],
   "source": [
    "b.seek(0)"
   ]
  },
  {
   "cell_type": "code",
   "execution_count": 101,
   "id": "801320d9-4484-4632-92d9-ad5f36ebcc48",
   "metadata": {},
   "outputs": [
    {
     "data": {
      "text/plain": [
       "'create a file working directly runing by the cellfile contact txt in append mode add  text'"
      ]
     },
     "execution_count": 101,
     "metadata": {},
     "output_type": "execute_result"
    }
   ],
   "source": [
    "b.read()"
   ]
  },
  {
   "cell_type": "code",
   "execution_count": null,
   "id": "196792e4-d170-4fca-8486-2ae7d515290f",
   "metadata": {},
   "outputs": [],
   "source": [
    "6 using the pagre_two_text variable create above extract  any email adressses that were contained in the file Buisness_proposal.pdf"
   ]
  },
  {
   "cell_type": "code",
   "execution_count": null,
   "id": "43404801-d0a6-4d23-828c-3f5ca0decc9a",
   "metadata": {},
   "outputs": [],
   "source": []
  }
 ],
 "metadata": {
  "kernelspec": {
   "display_name": "Python 3 (ipykernel)",
   "language": "python",
   "name": "python3"
  },
  "language_info": {
   "codemirror_mode": {
    "name": "ipython",
    "version": 3
   },
   "file_extension": ".py",
   "mimetype": "text/x-python",
   "name": "python",
   "nbconvert_exporter": "python",
   "pygments_lexer": "ipython3",
   "version": "3.12.4"
  }
 },
 "nbformat": 4,
 "nbformat_minor": 5
}
